{
 "cells": [
  {
   "cell_type": "code",
   "execution_count": 55,
   "id": "a462335a",
   "metadata": {},
   "outputs": [],
   "source": [
    "from bs4 import BeautifulSoup as BS\n",
    "import pandas as pd\n",
    "import requests\n",
    "import webbrowser\n",
    "import urllib.request\n",
    "\n",
    "\n",
    "def getReviews(url):\n",
    "    req = urllib.request.Request(url)\n",
    "    req.add_header('User-Agent', 'Mozilla/5.0 (Windows NT 10.0; Win64; x64; rv:106.0) Gecko/20100101 Firefox/106.0')\n",
    "    req.add_header('Accept', 'text/html,application/xhtml+xml,application/xml;q=0.9,image/avif,image/webp,*/*;q=0.8')\n",
    "    req.add_header('Accept-Language', 'en-US,en;q=0.5')\n",
    "    response = urllib.request.urlopen(req)\n",
    "    html_code = response.read().decode('utf-8')\n",
    "    soup=BS(html_code,'html.parser')\n",
    "    global totalReviews\n",
    "    totalReviews=soup.find('span',class_='biGQs _P pZUbB KxBGd').text[:-8].replace(',','')\n",
    "    hotelNameTemp=soup.find('h1',id='HEADING')\n",
    "    if hotelNameTemp and hotelNameTemp.text.strip():\n",
    "        hotelName=hotelNameTemp\n",
    "    else:\n",
    "        hotelName='N.A.'    \n",
    "    reviewHeads=[i.text for i in soup.find_all('span',class_='JbGkU Cj')]\n",
    "    reviewContent=[i.text for i in soup.find_all('span',class_='orRIx Ci _a C')]\n",
    "    reviewerNdate = [i.text for i in soup.find_all('div', class_='tVWyV _Z o S4 H3 Ci') if 'wrote a review' in i.text]\n",
    "    reviewerandDate=[]\n",
    "    for i in reviewerNdate:\n",
    "        reviewerandDate.append(i.split('wrote a review '))\n",
    "    finalDate=[]\n",
    "    finalreviewer=[]\n",
    "    for i in reviewerandDate:\n",
    "        finalDate.append(i[1])\n",
    "        finalreviewer.append(i[0])\n",
    "    ratings=[i.find('title').text[0:3] for i in soup.find_all('div',class_='kmMXA _T Gi')]\n",
    "    tempHotelLocation= [i.text for i in soup.find_all('span',class_='biGQs _P pZUbB KxBGd')]\n",
    "    hotelLocation=tempHotelLocation[1]\n",
    "    df = pd.DataFrame({\n",
    "        'Hotel Name': hotelName,\n",
    "        'Hotel Location': hotelLocation,\n",
    "        'Reviewer': finalreviewer,\n",
    "        'Rating':ratings,\n",
    "        'Date of Review': finalDate,\n",
    "        'Review':reviewHeads,\n",
    "        'Complete Review':reviewContent\n",
    "    })\n",
    "    return [df,hotelName,hotelLocation]\n",
    "\n",
    "def getPureReviews(url,hotelName,hotelLocation):\n",
    "    req = urllib.request.Request(url)\n",
    "    req.add_header('User-Agent', 'Mozilla/5.0 (Windows NT 10.0; Win64; x64; rv:106.0) Gecko/20100101 Firefox/106.0')\n",
    "    req.add_header('Accept', 'text/html,application/xhtml+xml,application/xml;q=0.9,image/avif,image/webp,*/*;q=0.8')\n",
    "    req.add_header('Accept-Language', 'en-US,en;q=0.5')\n",
    "    response = urllib.request.urlopen(req)\n",
    "    html_code = response.read().decode('utf-8')\n",
    "    soup=BS(html_code,'html.parser')\n",
    "    reviewHeads=[i.text for i in soup.find_all('span',class_='JbGkU Cj')]\n",
    "    reviewContent=[i.text for i in soup.find_all('span',class_='orRIx Ci _a C')]\n",
    "    reviewerNdate = [i.text for i in soup.find_all('div', class_='tVWyV _Z o S4 H3 Ci') if 'wrote a review' in i.text]\n",
    "    reviewerandDate=[]\n",
    "    for i in reviewerNdate:\n",
    "        reviewerandDate.append(i.split('wrote a review '))\n",
    "    finalDate=[]\n",
    "    finalreviewer=[]\n",
    "    for i in reviewerandDate:\n",
    "        finalDate.append(i[1])\n",
    "        finalreviewer.append(i[0])\n",
    "    ratings=[i.find('title').text[0:3] for i in soup.find_all('div',class_='kmMXA _T Gi')]\n",
    "    df = pd.DataFrame({\n",
    "        'Hotel Name': hotelName,\n",
    "        'Hotel Location': hotelLocation,\n",
    "        'Reviewer': finalreviewer,\n",
    "        'Rating':ratings,\n",
    "        'Date of Review': finalDate,\n",
    "        'Review':reviewHeads,\n",
    "        'Complete Review':reviewContent\n",
    "    })\n",
    "    return df"
   ]
  },
  {
   "cell_type": "code",
   "execution_count": 56,
   "id": "19231fe7",
   "metadata": {},
   "outputs": [
    {
     "name": "stdout",
     "output_type": "stream",
     "text": [
      "Converted Olá Santiago Providencia, Tapestry Collection By Hilton to excel\n",
      "Converted Renaissance Santiago Hotel to excel\n"
     ]
    }
   ],
   "source": [
    "links_array = pd.read_excel(r\"C:\\Users\\viren\\Downloads\\Country links.xlsx\")['Unnamed: 0'].tolist()\n",
    "for url in links_array[3:5]:\n",
    "    split_url = url.split(\"Reviews-\")\n",
    "    first_part = split_url[0] + \"Reviews-or\"\n",
    "    second_part = \"-\" + split_url[1]\n",
    "    result = getReviews(url)\n",
    "    df=result[0]\n",
    "    hotelName=result[1]\n",
    "    hotelLocation=result[2]\n",
    "    urls = [f\"{first_part}{i}{second_part}\" for i in range(10, 30, 10)]\n",
    "    for i in urls:\n",
    "        newdf=getPureReviews(i,hotelName,hotelLocation)\n",
    "        df = pd.concat([df, newdf], ignore_index=True)\n",
    "    df.to_excel(f'{hotelName.text}.xlsx', index=False, engine='openpyxl')\n",
    "    print(f'Converted {hotelName.text} to excel')"
   ]
  },
  {
   "cell_type": "code",
   "execution_count": null,
   "id": "1f531b0c",
   "metadata": {},
   "outputs": [],
   "source": [
    "url='https://www.tripadvisor.in/Hotel_Review-g294305-d7621139-Reviews-Courtyard_Santiago_Las_Condes-Santiago_Santiago_Metropolitan_Region.html'\n",
    "df=getReviews(url)\n",
    "df[0]"
   ]
  }
 ],
 "metadata": {
  "kernelspec": {
   "display_name": "Python 3 (ipykernel)",
   "language": "python",
   "name": "python3"
  },
  "language_info": {
   "codemirror_mode": {
    "name": "ipython",
    "version": 3
   },
   "file_extension": ".py",
   "mimetype": "text/x-python",
   "name": "python",
   "nbconvert_exporter": "python",
   "pygments_lexer": "ipython3",
   "version": "3.8.8"
  }
 },
 "nbformat": 4,
 "nbformat_minor": 5
}
